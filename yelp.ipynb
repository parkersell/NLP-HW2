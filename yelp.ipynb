{
 "cells": [
  {
   "cell_type": "code",
   "execution_count": null,
   "metadata": {},
   "outputs": [],
   "source": [
    "import pandas as pd\n",
    "import os\n",
    "import matplotlib.pyplot as plt \n",
    "INPUT_FOLDER = \"/mnt/d/Spring 2023 Big Files/\"\n",
    "OUTPUT_FOLDER = \"/mnt/d/Spring 2023 Big Files\""
   ]
  },
  {
   "cell_type": "code",
   "execution_count": null,
   "metadata": {},
   "outputs": [],
   "source": [
    "def load_yelp_orig_data(path):\n",
    "    if os.path.exists(path):\n",
    "        return\n",
    "    PATH_TO_YELP_REVIEWS = os.path.join(INPUT_FOLDER,\"output.json\")\n",
    "\n",
    "    # read the entire file into a python array\n",
    "    with open(PATH_TO_YELP_REVIEWS, 'r') as f:\n",
    "        data = f.readlines()\n",
    "\n",
    "    # remove the trailing \"\\n\" from each line\n",
    "    data = map(lambda x: x.rstrip(), data)\n",
    "\n",
    "    data_json_str = \"[\" , ','.join(data) , \"]\"\n",
    "\n",
    "    # now, load it into pandas\n",
    "    data_df = pd.read_json(data_json_str)\n",
    "\n",
    "    data_df.head(100000).to_csv(path)\n",
    "\n",
    "load_yelp_orig_data(path = os.path.join(OUTPUT_FOLDER, 'output_reviews_top.csv'))"
   ]
  },
  {
   "cell_type": "code",
   "execution_count": null,
   "metadata": {},
   "outputs": [
    {
     "name": "stdout",
     "output_type": "stream",
     "text": [
      "Columns in the original dataset:\n",
      "\n",
      "Index(['Unnamed: 0', 'review_id', 'user_id', 'business_id', 'stars', 'useful',\n",
      "       'funny', 'cool', 'text', 'date'],\n",
      "      dtype='object')\n"
     ]
    }
   ],
   "source": [
    "top_data_df = pd.read_csv(os.path.join(INPUT_FOLDER , 'output_reviews_top.csv'))\n",
    "print(\"Columns in the original dataset:\\n\")\n",
    "print(top_data_df.columns)\n"
   ]
  },
  {
   "cell_type": "code",
   "execution_count": null,
   "metadata": {},
   "outputs": [
    {
     "name": "stdout",
     "output_type": "stream",
     "text": [
      "Number of rows per star rating:\n",
      "5    44392\n",
      "4    25337\n",
      "3    11362\n",
      "1    10921\n",
      "2     7988\n",
      "Name: stars, dtype: int64\n"
     ]
    },
    {
     "data": {
      "image/png": "[encoded data removed]",
      "text/plain": [
       "<Figure size 640x480 with 1 Axes>"
      ]
     },
     "metadata": {},
     "output_type": "display_data"
    },
    {
     "data": {
      "text/html": [
       "<div>\n",
       "<style scoped>\n",
       "    .dataframe tbody tr th:only-of-type {\n",
       "        vertical-align: middle;\n",
       "    }\n",
       "\n",
       "    .dataframe tbody tr th {\n",
       "        vertical-align: top;\n",
       "    }\n",
       "\n",
       "    .dataframe thead th {\n",
       "        text-align: right;\n",
       "    }\n",
       "</style>\n",
       "<table border=\"1\" class=\"dataframe\">\n",
       "  <thead>\n",
       "    <tr style=\"text-align: right;\">\n",
       "      <th></th>\n",
       "      <th>Unnamed: 0</th>\n",
       "      <th>review_id</th>\n",
       "      <th>user_id</th>\n",
       "      <th>business_id</th>\n",
       "      <th>stars</th>\n",
       "      <th>useful</th>\n",
       "      <th>funny</th>\n",
       "      <th>cool</th>\n",
       "      <th>text</th>\n",
       "      <th>date</th>\n",
       "      <th>sentiment</th>\n",
       "    </tr>\n",
       "  </thead>\n",
       "  <tbody>\n",
       "    <tr>\n",
       "      <th>0</th>\n",
       "      <td>0</td>\n",
       "      <td>KU_O5udG6zpxOg-VcAEodg</td>\n",
       "      <td>mh_-eMZ6K5RLWhZyISBhwA</td>\n",
       "      <td>XQfwVwDr-v0ZS3_CbbE5Xw</td>\n",
       "      <td>3</td>\n",
       "      <td>0</td>\n",
       "      <td>0</td>\n",
       "      <td>0</td>\n",
       "      <td>If you decide to eat here, just be aware it is...</td>\n",
       "      <td>2018-07-07 22:09:11</td>\n",
       "      <td>0</td>\n",
       "    </tr>\n",
       "    <tr>\n",
       "      <th>1</th>\n",
       "      <td>1</td>\n",
       "      <td>BiTunyQ73aT9WBnpR9DZGw</td>\n",
       "      <td>OyoGAe7OKpv6SyGZT5g77Q</td>\n",
       "      <td>7ATYjTIgM3jUlt4UM3IypQ</td>\n",
       "      <td>5</td>\n",
       "      <td>1</td>\n",
       "      <td>0</td>\n",
       "      <td>1</td>\n",
       "      <td>I've taken a lot of spin classes over the year...</td>\n",
       "      <td>2012-01-03 15:28:18</td>\n",
       "      <td>1</td>\n",
       "    </tr>\n",
       "    <tr>\n",
       "      <th>2</th>\n",
       "      <td>2</td>\n",
       "      <td>saUsX_uimxRlCVr67Z4Jig</td>\n",
       "      <td>8g_iMtfSiwikVnbP2etR0A</td>\n",
       "      <td>YjUWPpI6HXG530lwP-fb2A</td>\n",
       "      <td>3</td>\n",
       "      <td>0</td>\n",
       "      <td>0</td>\n",
       "      <td>0</td>\n",
       "      <td>Family diner. Had the buffet. Eclectic assortm...</td>\n",
       "      <td>2014-02-05 20:30:30</td>\n",
       "      <td>0</td>\n",
       "    </tr>\n",
       "    <tr>\n",
       "      <th>3</th>\n",
       "      <td>3</td>\n",
       "      <td>AqPFMleE6RsU23_auESxiA</td>\n",
       "      <td>_7bHUi9Uuf5__HHc_Q8guQ</td>\n",
       "      <td>kxX2SOes4o-D3ZQBkiMRfA</td>\n",
       "      <td>5</td>\n",
       "      <td>1</td>\n",
       "      <td>0</td>\n",
       "      <td>1</td>\n",
       "      <td>Wow!  Yummy, different,  delicious.   Our favo...</td>\n",
       "      <td>2015-01-04 00:01:03</td>\n",
       "      <td>1</td>\n",
       "    </tr>\n",
       "    <tr>\n",
       "      <th>4</th>\n",
       "      <td>4</td>\n",
       "      <td>Sx8TMOWLNuJBWer-0pcmoA</td>\n",
       "      <td>bcjbaE6dDog4jkNY91ncLQ</td>\n",
       "      <td>e4Vwtrqf-wpJfwesgvdgxQ</td>\n",
       "      <td>4</td>\n",
       "      <td>1</td>\n",
       "      <td>0</td>\n",
       "      <td>1</td>\n",
       "      <td>Cute interior and owner (?) gave us tour of up...</td>\n",
       "      <td>2017-01-14 20:54:15</td>\n",
       "      <td>1</td>\n",
       "    </tr>\n",
       "  </tbody>\n",
       "</table>\n",
       "</div>"
      ],
      "text/plain": [
       "   Unnamed: 0               review_id                 user_id  \\\n",
       "0           0  KU_O5udG6zpxOg-VcAEodg  mh_-eMZ6K5RLWhZyISBhwA   \n",
       "1           1  BiTunyQ73aT9WBnpR9DZGw  OyoGAe7OKpv6SyGZT5g77Q   \n",
       "2           2  saUsX_uimxRlCVr67Z4Jig  8g_iMtfSiwikVnbP2etR0A   \n",
       "3           3  AqPFMleE6RsU23_auESxiA  _7bHUi9Uuf5__HHc_Q8guQ   \n",
       "4           4  Sx8TMOWLNuJBWer-0pcmoA  bcjbaE6dDog4jkNY91ncLQ   \n",
       "\n",
       "              business_id  stars  useful  funny  cool  \\\n",
       "0  XQfwVwDr-v0ZS3_CbbE5Xw      3       0      0     0   \n",
       "1  7ATYjTIgM3jUlt4UM3IypQ      5       1      0     1   \n",
       "2  YjUWPpI6HXG530lwP-fb2A      3       0      0     0   \n",
       "3  kxX2SOes4o-D3ZQBkiMRfA      5       1      0     1   \n",
       "4  e4Vwtrqf-wpJfwesgvdgxQ      4       1      0     1   \n",
       "\n",
       "                                                text                 date  \\\n",
       "0  If you decide to eat here, just be aware it is...  2018-07-07 22:09:11   \n",
       "1  I've taken a lot of spin classes over the year...  2012-01-03 15:28:18   \n",
       "2  Family diner. Had the buffet. Eclectic assortm...  2014-02-05 20:30:30   \n",
       "3  Wow!  Yummy, different,  delicious.   Our favo...  2015-01-04 00:01:03   \n",
       "4  Cute interior and owner (?) gave us tour of up...  2017-01-14 20:54:15   \n",
       "\n",
       "   sentiment  \n",
       "0          0  \n",
       "1          1  \n",
       "2          0  \n",
       "3          1  \n",
       "4          1  "
      ]
     },
     "execution_count": 24,
     "metadata": {},
     "output_type": "execute_result"
    }
   ],
   "source": [
    "\n",
    "\n",
    "print(\"Number of rows per star rating:\")\n",
    "print(top_data_df['stars'].value_counts())\n",
    "\n",
    "# Function to map stars to sentiment\n",
    "def map_sentiment(stars_received):\n",
    "    if stars_received <= 2:\n",
    "        return -1\n",
    "    elif stars_received == 3:\n",
    "        return 0\n",
    "    else:\n",
    "        return 1\n",
    "# Mapping stars to sentiment into three categories\n",
    "top_data_df['sentiment'] = [ map_sentiment(x) for x in top_data_df['stars']]\n",
    "# Plotting the sentiment distribution\n",
    "plt.figure()\n",
    "pd.value_counts(top_data_df['sentiment']).plot.bar(title=\"Sentiment distribution in df\")\n",
    "plt.xlabel(\"Sentiment\")\n",
    "plt.ylabel(\"No. of rows in df\")\n",
    "plt.show()\n",
    "top_data_df.head()"
   ]
  },
  {
   "cell_type": "code",
   "execution_count": null,
   "metadata": {},
   "outputs": [
    {
     "name": "stdout",
     "output_type": "stream",
     "text": [
      "After segregating and taking equal number of rows for each sentiment:\n",
      " 1    10000\n",
      "-1    10000\n",
      " 0    10000\n",
      "Name: sentiment, dtype: int64\n"
     ]
    },
    {
     "data": {
      "text/html": [
       "<div>\n",
       "<style scoped>\n",
       "    .dataframe tbody tr th:only-of-type {\n",
       "        vertical-align: middle;\n",
       "    }\n",
       "\n",
       "    .dataframe tbody tr th {\n",
       "        vertical-align: top;\n",
       "    }\n",
       "\n",
       "    .dataframe thead th {\n",
       "        text-align: right;\n",
       "    }\n",
       "</style>\n",
       "<table border=\"1\" class=\"dataframe\">\n",
       "  <thead>\n",
       "    <tr style=\"text-align: right;\">\n",
       "      <th></th>\n",
       "      <th>Unnamed: 0</th>\n",
       "      <th>review_id</th>\n",
       "      <th>user_id</th>\n",
       "      <th>business_id</th>\n",
       "      <th>stars</th>\n",
       "      <th>useful</th>\n",
       "      <th>funny</th>\n",
       "      <th>cool</th>\n",
       "      <th>text</th>\n",
       "      <th>date</th>\n",
       "      <th>sentiment</th>\n",
       "    </tr>\n",
       "  </thead>\n",
       "  <tbody>\n",
       "    <tr>\n",
       "      <th>1</th>\n",
       "      <td>1</td>\n",
       "      <td>BiTunyQ73aT9WBnpR9DZGw</td>\n",
       "      <td>OyoGAe7OKpv6SyGZT5g77Q</td>\n",
       "      <td>7ATYjTIgM3jUlt4UM3IypQ</td>\n",
       "      <td>5</td>\n",
       "      <td>1</td>\n",
       "      <td>0</td>\n",
       "      <td>1</td>\n",
       "      <td>I've taken a lot of spin classes over the year...</td>\n",
       "      <td>2012-01-03 15:28:18</td>\n",
       "      <td>1</td>\n",
       "    </tr>\n",
       "    <tr>\n",
       "      <th>3</th>\n",
       "      <td>3</td>\n",
       "      <td>AqPFMleE6RsU23_auESxiA</td>\n",
       "      <td>_7bHUi9Uuf5__HHc_Q8guQ</td>\n",
       "      <td>kxX2SOes4o-D3ZQBkiMRfA</td>\n",
       "      <td>5</td>\n",
       "      <td>1</td>\n",
       "      <td>0</td>\n",
       "      <td>1</td>\n",
       "      <td>Wow!  Yummy, different,  delicious.   Our favo...</td>\n",
       "      <td>2015-01-04 00:01:03</td>\n",
       "      <td>1</td>\n",
       "    </tr>\n",
       "    <tr>\n",
       "      <th>4</th>\n",
       "      <td>4</td>\n",
       "      <td>Sx8TMOWLNuJBWer-0pcmoA</td>\n",
       "      <td>bcjbaE6dDog4jkNY91ncLQ</td>\n",
       "      <td>e4Vwtrqf-wpJfwesgvdgxQ</td>\n",
       "      <td>4</td>\n",
       "      <td>1</td>\n",
       "      <td>0</td>\n",
       "      <td>1</td>\n",
       "      <td>Cute interior and owner (?) gave us tour of up...</td>\n",
       "      <td>2017-01-14 20:54:15</td>\n",
       "      <td>1</td>\n",
       "    </tr>\n",
       "    <tr>\n",
       "      <th>6</th>\n",
       "      <td>6</td>\n",
       "      <td>6AxgBCNX_PNTOxmbRSwcKQ</td>\n",
       "      <td>r3zeYsv1XFBRA4dJpL78cw</td>\n",
       "      <td>gmjsEdUsKpj9Xxu6pdjH0g</td>\n",
       "      <td>5</td>\n",
       "      <td>0</td>\n",
       "      <td>2</td>\n",
       "      <td>0</td>\n",
       "      <td>Loved this tour! I grabbed a groupon and the p...</td>\n",
       "      <td>2015-01-03 23:21:18</td>\n",
       "      <td>1</td>\n",
       "    </tr>\n",
       "    <tr>\n",
       "      <th>7</th>\n",
       "      <td>7</td>\n",
       "      <td>_ZeMknuYdlQcUqng_Im3yg</td>\n",
       "      <td>yfFzsLmaWF2d4Sr0UNbBgg</td>\n",
       "      <td>LHSTtnW3YHCeUkRDGyJOyw</td>\n",
       "      <td>5</td>\n",
       "      <td>2</td>\n",
       "      <td>0</td>\n",
       "      <td>0</td>\n",
       "      <td>Amazingly amazing wings and homemade bleu chee...</td>\n",
       "      <td>2015-08-07 02:29:16</td>\n",
       "      <td>1</td>\n",
       "    </tr>\n",
       "    <tr>\n",
       "      <th>10</th>\n",
       "      <td>10</td>\n",
       "      <td>rGQRf8UafX7OTlMNN19I8A</td>\n",
       "      <td>1WHRWwQmZOZDAhp2Qyny4g</td>\n",
       "      <td>uMvVYRgGNXf5boolA9HXTw</td>\n",
       "      <td>5</td>\n",
       "      <td>2</td>\n",
       "      <td>0</td>\n",
       "      <td>0</td>\n",
       "      <td>My experience with Shalimar was nothing but wo...</td>\n",
       "      <td>2015-06-21 14:48:06</td>\n",
       "      <td>1</td>\n",
       "    </tr>\n",
       "    <tr>\n",
       "      <th>11</th>\n",
       "      <td>11</td>\n",
       "      <td>l3Wk_mvAog6XANIuGQ9C7Q</td>\n",
       "      <td>ZbqSHbgCjzVAqaa7NKWn5A</td>\n",
       "      <td>EQ-TZ2eeD_E0BHuvoaeG5Q</td>\n",
       "      <td>4</td>\n",
       "      <td>0</td>\n",
       "      <td>0</td>\n",
       "      <td>0</td>\n",
       "      <td>Locals recommended Milktooth, and it's an amaz...</td>\n",
       "      <td>2015-08-19 14:31:45</td>\n",
       "      <td>1</td>\n",
       "    </tr>\n",
       "    <tr>\n",
       "      <th>12</th>\n",
       "      <td>12</td>\n",
       "      <td>XW_LfMv0fV21l9c6xQd_lw</td>\n",
       "      <td>9OAtfnWag-ajVxRbUTGIyg</td>\n",
       "      <td>lj-E32x9_FA7GmUrBGBEWg</td>\n",
       "      <td>4</td>\n",
       "      <td>0</td>\n",
       "      <td>0</td>\n",
       "      <td>0</td>\n",
       "      <td>Love going here for happy hour or dinner!  Gre...</td>\n",
       "      <td>2014-06-27 22:44:01</td>\n",
       "      <td>1</td>\n",
       "    </tr>\n",
       "    <tr>\n",
       "      <th>13</th>\n",
       "      <td>13</td>\n",
       "      <td>8JFGBuHMoiNDyfcxuWNtrA</td>\n",
       "      <td>smOvOajNG0lS4Pq7d8g4JQ</td>\n",
       "      <td>RZtGWDLCAtuipwaZ-UfjmQ</td>\n",
       "      <td>4</td>\n",
       "      <td>0</td>\n",
       "      <td>0</td>\n",
       "      <td>0</td>\n",
       "      <td>Good food--loved the gnocchi with marinara\\nth...</td>\n",
       "      <td>2009-10-14 19:57:14</td>\n",
       "      <td>1</td>\n",
       "    </tr>\n",
       "    <tr>\n",
       "      <th>14</th>\n",
       "      <td>14</td>\n",
       "      <td>UBp0zWyH60Hmw6Fsasei7w</td>\n",
       "      <td>4Uh27DgGzsp6PqrH913giQ</td>\n",
       "      <td>otQS34_MymijPTdNBoBdCw</td>\n",
       "      <td>4</td>\n",
       "      <td>0</td>\n",
       "      <td>2</td>\n",
       "      <td>0</td>\n",
       "      <td>The bun makes the Sonoran Dog. It's like a snu...</td>\n",
       "      <td>2011-10-27 17:12:05</td>\n",
       "      <td>1</td>\n",
       "    </tr>\n",
       "  </tbody>\n",
       "</table>\n",
       "</div>"
      ],
      "text/plain": [
       "    Unnamed: 0               review_id                 user_id  \\\n",
       "1            1  BiTunyQ73aT9WBnpR9DZGw  OyoGAe7OKpv6SyGZT5g77Q   \n",
       "3            3  AqPFMleE6RsU23_auESxiA  _7bHUi9Uuf5__HHc_Q8guQ   \n",
       "4            4  Sx8TMOWLNuJBWer-0pcmoA  bcjbaE6dDog4jkNY91ncLQ   \n",
       "6            6  6AxgBCNX_PNTOxmbRSwcKQ  r3zeYsv1XFBRA4dJpL78cw   \n",
       "7            7  _ZeMknuYdlQcUqng_Im3yg  yfFzsLmaWF2d4Sr0UNbBgg   \n",
       "10          10  rGQRf8UafX7OTlMNN19I8A  1WHRWwQmZOZDAhp2Qyny4g   \n",
       "11          11  l3Wk_mvAog6XANIuGQ9C7Q  ZbqSHbgCjzVAqaa7NKWn5A   \n",
       "12          12  XW_LfMv0fV21l9c6xQd_lw  9OAtfnWag-ajVxRbUTGIyg   \n",
       "13          13  8JFGBuHMoiNDyfcxuWNtrA  smOvOajNG0lS4Pq7d8g4JQ   \n",
       "14          14  UBp0zWyH60Hmw6Fsasei7w  4Uh27DgGzsp6PqrH913giQ   \n",
       "\n",
       "               business_id  stars  useful  funny  cool  \\\n",
       "1   7ATYjTIgM3jUlt4UM3IypQ      5       1      0     1   \n",
       "3   kxX2SOes4o-D3ZQBkiMRfA      5       1      0     1   \n",
       "4   e4Vwtrqf-wpJfwesgvdgxQ      4       1      0     1   \n",
       "6   gmjsEdUsKpj9Xxu6pdjH0g      5       0      2     0   \n",
       "7   LHSTtnW3YHCeUkRDGyJOyw      5       2      0     0   \n",
       "10  uMvVYRgGNXf5boolA9HXTw      5       2      0     0   \n",
       "11  EQ-TZ2eeD_E0BHuvoaeG5Q      4       0      0     0   \n",
       "12  lj-E32x9_FA7GmUrBGBEWg      4       0      0     0   \n",
       "13  RZtGWDLCAtuipwaZ-UfjmQ      4       0      0     0   \n",
       "14  otQS34_MymijPTdNBoBdCw      4       0      2     0   \n",
       "\n",
       "                                                 text                 date  \\\n",
       "1   I've taken a lot of spin classes over the year...  2012-01-03 15:28:18   \n",
       "3   Wow!  Yummy, different,  delicious.   Our favo...  2015-01-04 00:01:03   \n",
       "4   Cute interior and owner (?) gave us tour of up...  2017-01-14 20:54:15   \n",
       "6   Loved this tour! I grabbed a groupon and the p...  2015-01-03 23:21:18   \n",
       "7   Amazingly amazing wings and homemade bleu chee...  2015-08-07 02:29:16   \n",
       "10  My experience with Shalimar was nothing but wo...  2015-06-21 14:48:06   \n",
       "11  Locals recommended Milktooth, and it's an amaz...  2015-08-19 14:31:45   \n",
       "12  Love going here for happy hour or dinner!  Gre...  2014-06-27 22:44:01   \n",
       "13  Good food--loved the gnocchi with marinara\\nth...  2009-10-14 19:57:14   \n",
       "14  The bun makes the Sonoran Dog. It's like a snu...  2011-10-27 17:12:05   \n",
       "\n",
       "    sentiment  \n",
       "1           1  \n",
       "3           1  \n",
       "4           1  \n",
       "6           1  \n",
       "7           1  \n",
       "10          1  \n",
       "11          1  \n",
       "12          1  \n",
       "13          1  \n",
       "14          1  "
      ]
     },
     "execution_count": 25,
     "metadata": {},
     "output_type": "execute_result"
    }
   ],
   "source": [
    "# Function to retrieve top few number of each category\n",
    "def get_top_data(top_n = 5000):\n",
    "    top_data_df_positive = top_data_df[top_data_df['sentiment'] == 1].head(top_n)\n",
    "    top_data_df_negative = top_data_df[top_data_df['sentiment'] == -1].head(top_n)\n",
    "    top_data_df_neutral = top_data_df[top_data_df['sentiment'] == 0].head(top_n)\n",
    "    top_data_df_small = pd.concat([top_data_df_positive, top_data_df_negative, top_data_df_neutral])\n",
    "    return top_data_df_small\n",
    "\n",
    "# Function call to get the top 10000 from each sentiment\n",
    "top_data_df_small = get_top_data(top_n=10000)\n",
    "\n",
    "# After selecting top few samples of each sentiment\n",
    "print(\"After segregating and taking equal number of rows for each sentiment:\")\n",
    "print(top_data_df_small['sentiment'].value_counts())\n",
    "top_data_df_small.head(10)"
   ]
  },
  {
   "cell_type": "code",
   "execution_count": null,
   "metadata": {},
   "outputs": [
    {
     "name": "stdout",
     "output_type": "stream",
     "text": [
      "Restaurant good service!!\n",
      "I like food!!\n",
      "This product good!!\n"
     ]
    }
   ],
   "source": [
    "from gensim.parsing.preprocessing import remove_stopwords\n",
    "print(remove_stopwords(\"Restaurant had a really good service!!\"))\n",
    "print(remove_stopwords(\"I did not like the food!!\"))\n",
    "print(remove_stopwords(\"This product is not good!!\"))"
   ]
  },
  {
   "cell_type": "code",
   "execution_count": null,
   "metadata": {},
   "outputs": [
    {
     "name": "stdout",
     "output_type": "stream",
     "text": [
      "1     [ve, taken, lot, of, spin, classes, over, the,...\n",
      "3     [wow, yummy, different, delicious, our, favori...\n",
      "4     [cute, interior, and, owner, gave, us, tour, o...\n",
      "6     [loved, this, tour, grabbed, groupon, and, the...\n",
      "7     [amazingly, amazing, wings, and, homemade, ble...\n",
      "10    [my, experience, with, shalimar, was, nothing,...\n",
      "11    [locals, recommended, milktooth, and, it, an, ...\n",
      "12    [love, going, here, for, happy, hour, or, dinn...\n",
      "13    [good, food, loved, the, gnocchi, with, marina...\n",
      "14    [the, bun, makes, the, sonoran, dog, it, like,...\n",
      "Name: tokenized_text, dtype: object\n"
     ]
    }
   ],
   "source": [
    "from gensim.utils import simple_preprocess\n",
    "# Tokenize the text column to get the new column 'tokenized_text'\n",
    "top_data_df_small['tokenized_text'] = [simple_preprocess(line, deacc=True) for line in top_data_df_small['text']] \n",
    "print(top_data_df_small['tokenized_text'].head(10))"
   ]
  },
  {
   "cell_type": "code",
   "execution_count": null,
   "metadata": {},
   "outputs": [
    {
     "data": {
      "text/plain": [
       "1     [ve, taken, lot, of, spin, class, over, the, y...\n",
       "3     [wow, yummi, differ, delici, our, favorit, is,...\n",
       "4     [cute, interior, and, owner, gave, us, tour, o...\n",
       "6     [love, thi, tour, grab, groupon, and, the, pri...\n",
       "7     [amazingli, amaz, wing, and, homemad, bleu, ch...\n",
       "10    [my, experi, with, shalimar, wa, noth, but, wo...\n",
       "11    [local, recommend, milktooth, and, it, an, ama...\n",
       "12    [love, go, here, for, happi, hour, or, dinner,...\n",
       "13    [good, food, love, the, gnocchi, with, marinar...\n",
       "14    [the, bun, make, the, sonoran, dog, it, like, ...\n",
       "Name: stemmed_tokens, dtype: object"
      ]
     },
     "execution_count": 28,
     "metadata": {},
     "output_type": "execute_result"
    }
   ],
   "source": [
    "\n",
    "from gensim.parsing.porter import PorterStemmer\n",
    "porter_stemmer = PorterStemmer()\n",
    "# Get the stemmed_tokens\n",
    "top_data_df_small['stemmed_tokens'] = [[porter_stemmer.stem(word) for word in tokens] for tokens in top_data_df_small['tokenized_text'] ]\n",
    "top_data_df_small['stemmed_tokens'].head(10)"
   ]
  },
  {
   "cell_type": "code",
   "execution_count": null,
   "metadata": {},
   "outputs": [
    {
     "name": "stdout",
     "output_type": "stream",
     "text": [
      "Value counts for Train sentiments\n",
      " 1    7036\n",
      "-1    7008\n",
      " 0    6956\n",
      "Name: sentiment, dtype: int64\n",
      "Value counts for Test sentiments\n",
      " 0    3044\n",
      "-1    2992\n",
      " 1    2964\n",
      "Name: sentiment, dtype: int64\n",
      "<class 'pandas.core.frame.DataFrame'>\n",
      "<class 'pandas.core.series.Series'>\n",
      "   index             business_id  cool                 date  funny  \\\n",
      "0  41964  h7zxeLAdUyAO6S6UzXJDwA     0  2018-05-20 02:15:46      0   \n",
      "1  21237  ySXKjndttZjNy3kcqRqG3g     0  2015-12-20 20:30:12      0   \n",
      "2  43742  9gObo5ltOMo6UgsaXaHPWA     0  2015-12-05 23:57:22      0   \n",
      "3  35107  tvbFcYCEQWc76CUK-nBw8w     0  2018-07-27 08:09:21      0   \n",
      "4   2960  Yv6HUVu7fRMnt_NtGdVQBw     0  2018-06-19 18:16:51      0   \n",
      "\n",
      "                review_id  stars  \\\n",
      "0  xkcYjM_5w9rdSiN8_Qz_Tg      1   \n",
      "1  XIYnB19-LAI_yzJfB2d7eQ      3   \n",
      "2  Nm2XaG0sQ7p3LHoZG44cAg      1   \n",
      "3  L8Ape_IoEHiMjgiufwCp8Q      3   \n",
      "4  0uD1hdeUNPyfAaGOKpMMeQ      5   \n",
      "\n",
      "                                                text  useful  \\\n",
      "0  Kids talking and being disruptive during the w...       1   \n",
      "1  I've had the clam chowder here about 5 times. ...       1   \n",
      "2  Horrible service. We made a reservation on Yel...       0   \n",
      "3  Decent Korean barbeque, but subpar cold buckwh...       0   \n",
      "4  This is one of our favorite spots in Nashville...       0   \n",
      "\n",
      "                  user_id                                     stemmed_tokens  \n",
      "0  sZwPzjw85nriL8tf2k_yLw  [kid, talk, and, be, disrupt, dure, the, whole...  \n",
      "1  Xp3-2ZMn5mxD--SH7mBKag  [ve, had, the, clam, chowder, here, about, tim...  \n",
      "2  q_9dwLqRBM4FkxtMjHe3qQ  [horribl, servic, we, made, reserv, on, yelp, ...  \n",
      "3  c9QdM3JbLT5sCwQ4hGcHIQ  [decent, korean, barbequ, but, subpar, cold, b...  \n",
      "4  DWGywipRRede0hIpZ4tDag  [thi, is, on, of, our, favorit, spot, in, nash...  \n"
     ]
    }
   ],
   "source": [
    "from sklearn.model_selection import train_test_split\n",
    "# Train Test Split Function\n",
    "def split_train_test(top_data_df_small, test_size=0.3, shuffle_state=True):\n",
    "    X_train, X_test, Y_train, Y_test = train_test_split(top_data_df_small[['business_id', 'cool', 'date', 'funny', 'review_id', 'stars', 'text', 'useful', 'user_id', 'stemmed_tokens']], \n",
    "                                                        top_data_df_small['sentiment'], \n",
    "                                                        shuffle=shuffle_state,\n",
    "                                                        test_size=test_size, \n",
    "                                                        random_state=15)\n",
    "    print(\"Value counts for Train sentiments\")\n",
    "    print(Y_train.value_counts())\n",
    "    print(\"Value counts for Test sentiments\")\n",
    "    print(Y_test.value_counts())\n",
    "    print(type(X_train))\n",
    "    print(type(Y_train))\n",
    "    X_train = X_train.reset_index()\n",
    "    X_test = X_test.reset_index()\n",
    "    Y_train = Y_train.to_frame()\n",
    "    Y_train = Y_train.reset_index()\n",
    "    Y_test = Y_test.to_frame()\n",
    "    Y_test = Y_test.reset_index()\n",
    "    print(X_train.head())\n",
    "    return X_train, X_test, Y_train, Y_test\n",
    "\n",
    "# Call the train_test_split\n",
    "X_train, X_test, Y_train, Y_test = split_train_test(top_data_df_small)"
   ]
  },
  {
   "cell_type": "code",
   "execution_count": null,
   "metadata": {},
   "outputs": [
    {
     "name": "stdout",
     "output_type": "stream",
     "text": [
      "Device available for running: \n",
      "cuda\n"
     ]
    }
   ],
   "source": [
    "\n",
    "import torch.nn as nn\n",
    "import torch.nn.functional as F\n",
    "import torch.optim as optim\n",
    "\n",
    "import torch\n",
    "# Use cuda if present\n",
    "device = torch.device(\"cuda\" if torch.cuda.is_available() else \"cpu\")\n",
    "print(\"Device available for running: \")\n",
    "print(device)"
   ]
  },
  {
   "cell_type": "code",
   "execution_count": null,
   "metadata": {},
   "outputs": [],
   "source": [
    "from gensim.models import Word2Vec\n",
    "size = 500\n",
    "window = 3\n",
    "min_count = 1\n",
    "workers = 3\n",
    "sg = 1\n",
    "\n",
    "# Function to train word2vec model\n",
    "def make_word2vec_model(top_data_df_small, padding=True, sg=1, min_count=1, size=500, workers=3, window=3):\n",
    "    if  padding:\n",
    "        print(len(top_data_df_small))\n",
    "        temp_df = pd.Series(top_data_df_small['stemmed_tokens']).values\n",
    "        temp_df = list(temp_df)\n",
    "        temp_df.append(['pad'])\n",
    "        word2vec_file = os.path.join(OUTPUT_FOLDER,'models/', 'word2vec_' + str(size) + '_PAD.model')\n",
    "    else:\n",
    "        temp_df = top_data_df_small['stemmed_tokens']\n",
    "        word2vec_file = os.path.join(OUTPUT_FOLDER, 'models/' ,'word2vec_' + str(size) + '.model')\n",
    "    w2v_model = Word2Vec(temp_df, min_count = min_count, vector_size = size, workers = workers, window = window, sg = sg)\n",
    "\n",
    "    w2v_model.save(word2vec_file)\n",
    "    return w2v_model, word2vec_file\n",
    "\n",
    "# Train Word2vec model\n",
    "word2vec_file = os.path.join(OUTPUT_FOLDER, 'models', 'word2vec_' + str(size) + '_PAD.model')\n",
    "if not os.path.exists(word2vec_file):\n",
    "    if not os.path.exists(os.path.dirname(word2vec_file)):\n",
    "        os.makedirs(os.path.dirname(word2vec_file))\n",
    "    w2vmodel, word2vec_file = make_word2vec_model(top_data_df_small, padding=True, sg=sg, min_count=min_count, size=size, workers=workers, window=window)\n",
    "else:\n",
    "    w2vmodel = Word2Vec.load(word2vec_file)\n"
   ]
  },
  {
   "cell_type": "code",
   "execution_count": null,
   "metadata": {},
   "outputs": [
    {
     "data": {
      "text/plain": [
       "'the'"
      ]
     },
     "execution_count": 16,
     "metadata": {},
     "output_type": "execute_result"
    }
   ],
   "source": [
    "w2vmodel.wv.key_to_index['pad']\n",
    "w2vmodel.wv.index_to_key[0]"
   ]
  },
  {
   "cell_type": "code",
   "execution_count": 78,
   "metadata": {},
   "outputs": [],
   "source": [
    "max_sen_len = top_data_df_small.stemmed_tokens.map(len).max()\n",
    "padding_idx = w2vmodel.wv.key_to_index['pad']\n",
    "def make_word2vec_vector_cnn(sentence):\n",
    "    padded_X = [padding_idx for i in range(max_sen_len)]\n",
    "    i = 0\n",
    "    for word in sentence:\n",
    "        if word not in w2vmodel.wv.key_to_index:\n",
    "            padded_X[i] = 0\n",
    "            print(word)\n",
    "        else:\n",
    "            padded_X[i] = w2vmodel.wv.key_to_index[word]\n",
    "        i += 1\n",
    "    return torch.tensor(padded_X, dtype=torch.long, device=device).view(1, -1)"
   ]
  },
  {
   "cell_type": "code",
   "execution_count": 79,
   "metadata": {},
   "outputs": [],
   "source": [
    "\n",
    "# Function to get the output tensor\n",
    "def make_target(label):\n",
    "    if label == -1:\n",
    "        return torch.tensor([0], dtype=torch.long, device=device)\n",
    "    elif label == 0:\n",
    "        return torch.tensor([1], dtype=torch.long, device=device)\n",
    "    else:\n",
    "        return torch.tensor([2], dtype=torch.long, device=device)"
   ]
  },
  {
   "cell_type": "code",
   "execution_count": 80,
   "metadata": {},
   "outputs": [],
   "source": [
    "EMBEDDING_SIZE = 500\n",
    "NUM_FILTERS = 10\n",
    "import gensim\n",
    "\n",
    "class CnnTextClassifier(nn.Module):\n",
    "    def __init__(self, vocab_size, num_classes, window_sizes=(1,2,3,5)):\n",
    "        super(CnnTextClassifier, self).__init__()\n",
    "        w2vmodel = gensim.models.KeyedVectors.load(os.path.join(OUTPUT_FOLDER, 'models/', 'word2vec_500_PAD.model'))\n",
    "        weights = w2vmodel.wv\n",
    "        # With pretrained embeddings\n",
    "        self.embedding = nn.Embedding.from_pretrained(torch.FloatTensor(weights.vectors), padding_idx=w2vmodel.wv.key_to_index['pad'])\n",
    "        # Without pretrained embeddings\n",
    "        # self.embedding = nn.Embedding(vocab_size, EMBEDDING_SIZE)\n",
    "\n",
    "        self.convs = nn.ModuleList([\n",
    "                                   nn.Conv2d(1, NUM_FILTERS, [window_size, EMBEDDING_SIZE], padding=(window_size - 1, 0))\n",
    "                                   for window_size in window_sizes\n",
    "        ])\n",
    "\n",
    "        self.fc = nn.Linear(NUM_FILTERS * len(window_sizes), num_classes)\n",
    "\n",
    "    def forward(self, x):\n",
    "        x = self.embedding(x) # [B, T, E]\n",
    "\n",
    "        # Apply a convolution + max_pool layer for each window size\n",
    "        x = torch.unsqueeze(x, 1)\n",
    "        xs = []\n",
    "        for conv in self.convs:\n",
    "            x2 = torch.tanh(conv(x))\n",
    "            x2 = torch.squeeze(x2, -1)\n",
    "            x2 = F.max_pool1d(x2, x2.size(2))\n",
    "            xs.append(x2)\n",
    "        x = torch.cat(xs, 2)\n",
    "\n",
    "        # FC\n",
    "        x = x.view(x.size(0), -1)\n",
    "        logits = self.fc(x)\n",
    "\n",
    "        probs = F.softmax(logits, dim = 1)\n",
    "\n",
    "        return probs"
   ]
  },
  {
   "cell_type": "code",
   "execution_count": null,
   "metadata": {},
   "outputs": [],
   "source": [
    "from tqdm import tqdm\n",
    "NUM_CLASSES = 3\n",
    "VOCAB_SIZE = len(w2vmodel.wv.index_to_key)\n",
    "\n",
    "cnn_model = CnnTextClassifier(vocab_size=VOCAB_SIZE, num_classes=NUM_CLASSES)\n",
    "cnn_model.to(device)\n",
    "loss_function = nn.CrossEntropyLoss()\n",
    "optimizer = optim.Adam(cnn_model.parameters(), lr=0.001)\n",
    "num_epochs = 30\n",
    "\n",
    "# Open the file for writing loss\n",
    "if not os.path.exists(os.path.join(OUTPUT_FOLDER, 'plots')):\n",
    "    os.makedirs(os.path.join(OUTPUT_FOLDER, 'plots'))\n",
    "if not os.path.exists(os.path.join(OUTPUT_FOLDER, 'ckpts')):\n",
    "    os.makedirs(os.path.join(OUTPUT_FOLDER, 'ckpts'))\n",
    "\n",
    "loss_file_name = os.path.join(OUTPUT_FOLDER, 'plots/','cnn_class_big_loss_with_padding.csv') \n",
    "if not os.path.exists(loss_file_name):\n",
    "    with open(loss_file_name,'w') as f:\n",
    "        f.write('iter, loss')\n",
    "        f.write('\\n')\n",
    "    losses = []\n",
    "    cnn_model.train()\n",
    "    for epoch in range(num_epochs):\n",
    "        print(\"Epoch\" + str(epoch + 1))\n",
    "        train_loss = 0\n",
    "        for index, row in tqdm(X_train.iterrows(), total=len(X_train)):\n",
    "            print(index, row)\n",
    "            # Clearing the accumulated gradients\n",
    "            cnn_model.zero_grad()\n",
    "\n",
    "            # Make the bag of words vector for stemmed tokens \n",
    "            bow_vec = make_word2vec_vector_cnn(row['stemmed_tokens'])\n",
    "        \n",
    "            # Forward pass to get output\n",
    "            probs = cnn_model(bow_vec)\n",
    "\n",
    "            # Get the target label\n",
    "            target = make_target(Y_train['sentiment'][index])\n",
    "\n",
    "            # Calculate Loss: softmax --> cross entropy loss\n",
    "            loss = loss_function(probs, target)\n",
    "            train_loss += loss.item()\n",
    "\n",
    "            # Getting gradients w.r.t. parameters\n",
    "            loss.backward()\n",
    "\n",
    "            # Updating parameters\n",
    "            optimizer.step()\n",
    "\n",
    "\n",
    "        # if index == 0:\n",
    "        #     continue\n",
    "        print(\"Score: \" + str((epoch+1)) + \",\" + str(train_loss / len(X_train)))\n",
    "        with open(loss_file_name, 'a') as f:\n",
    "            f.write(str((epoch+1)) + \",\" + str(train_loss / len(X_train)))\n",
    "            f.write('\\n')\n",
    "        \n",
    "        if epoch % 5 == 0:\n",
    "            torch.save({\n",
    "                'epoch': epoch,\n",
    "                'model_state_dict': cnn_model.state_dict(),\n",
    "                'optimizer_state_dict': optimizer.state_dict(),\n",
    "                'loss': train_loss,\n",
    "                }, os.path.join(OUTPUT_FOLDER, 'ckpts', f'epoch_{epoch}.pt'))\n",
    "        train_loss = 0\n",
    "\n",
    "    torch.save(cnn_model, os.path.join(OUTPUT_FOLDER, 'cnn_big_model_500_with_padding.pth'))\n",
    "    print(\"Input vector\")\n",
    "    print(bow_vec.cpu().numpy())\n",
    "    print(\"Probs\")\n",
    "    print(probs)\n",
    "    print(torch.argmax(probs, dim=1).cpu().numpy()[0])"
   ]
  },
  {
   "cell_type": "code",
   "execution_count": 82,
   "metadata": {},
   "outputs": [
    {
     "name": "stdout",
     "output_type": "stream",
     "text": [
      "Index(['iter', ' loss'], dtype='object')\n"
     ]
    },
    {
     "name": "stderr",
     "output_type": "stream",
     "text": [
      "100%|██████████| 9000/9000 [00:12<00:00, 704.93it/s]"
     ]
    },
    {
     "name": "stdout",
     "output_type": "stream",
     "text": [
      "              precision    recall  f1-score   support\n",
      "\n",
      "           0       0.76      0.76      0.76      2992\n",
      "           1       0.62      0.63      0.63      3044\n",
      "           2       0.77      0.78      0.78      2964\n",
      "\n",
      "    accuracy                           0.72      9000\n",
      "   macro avg       0.72      0.72      0.72      9000\n",
      "weighted avg       0.72      0.72      0.72      9000\n",
      "\n"
     ]
    },
    {
     "name": "stderr",
     "output_type": "stream",
     "text": [
      "\n"
     ]
    }
   ],
   "source": [
    "\n",
    "from sklearn.metrics import classification_report\n",
    "bow_cnn_predictions = []\n",
    "original_lables_cnn_bow = []\n",
    "cnn_model =torch.load(os.path.join(OUTPUT_FOLDER, 'cnn_big_model_500_with_padding.pth'))\n",
    "cnn_model.eval()\n",
    "loss_df = pd.read_csv(os.path.join(OUTPUT_FOLDER, 'plots', 'cnn_class_big_loss_with_padding.csv'))\n",
    "print(loss_df.columns)\n",
    "# loss_df.plot('loss')\n",
    "with torch.no_grad():\n",
    "    for index, row in tqdm(X_test.iterrows(), total=len(X_test)):\n",
    "        bow_vec = make_word2vec_vector_cnn(row['stemmed_tokens'])\n",
    "        probs = cnn_model(bow_vec)\n",
    "        _, predicted = torch.max(probs.data, 1)\n",
    "        bow_cnn_predictions.append(predicted.cpu().numpy()[0])\n",
    "        original_lables_cnn_bow.append(make_target(Y_test['sentiment'][index]).cpu().numpy()[0])\n",
    "print(classification_report(original_lables_cnn_bow,bow_cnn_predictions))\n",
    "# loss_file_name = os.path.join(OUTPUT_FOLDER ,  'plots/' , 'cnn_class_big_loss_with_padding.csv')\n",
    "# loss_df = pd.read_csv(loss_file_name)\n",
    "# print(loss_df.columns)\n",
    "# plt_500_padding_30_epochs = loss_df[' loss'].plot()\n",
    "# fig = plt_500_padding_30_epochs.get_figure()\n",
    "# fig.savefig(os.path.join(OUTPUT_FOLDER ,'plots/' , \"loss_plt_500_padding_30_epochs.png\"))"
   ]
  },
  {
   "cell_type": "code",
   "execution_count": 85,
   "metadata": {},
   "outputs": [],
   "source": [
    "class SentimentLSTM(nn.Module):\n",
    "    \"\"\"\n",
    "    The RNN model that will be used to perform Sentiment analysis.\n",
    "    \"\"\"\n",
    "\n",
    "    def __init__(self, vocab_size, output_size, embedding_dim, hidden_dim, n_layers, drop_prob=0.5):\n",
    "        \"\"\"\n",
    "        Initialize the model by setting up the layers.\n",
    "        \"\"\"\n",
    "        super().__init__()\n",
    "\n",
    "        self.output_size = output_size\n",
    "        self.n_layers = n_layers\n",
    "        self.hidden_dim = hidden_dim\n",
    "        \n",
    "        w2vmodel = gensim.models.KeyedVectors.load(os.path.join(OUTPUT_FOLDER, 'models/', 'word2vec_500_PAD.model'))\n",
    "        weights = w2vmodel.wv\n",
    "        # With pretrained embeddings\n",
    "        self.embedding = nn.Embedding.from_pretrained(torch.FloatTensor(weights.vectors), padding_idx=w2vmodel.wv.key_to_index['pad'])\n",
    "        # embedding and LSTM layers\n",
    "        self.lstm = nn.LSTM(embedding_dim, hidden_dim, n_layers, \n",
    "                            dropout=drop_prob, batch_first=True)\n",
    "        \n",
    "        # dropout layer\n",
    "        self.dropout = nn.Dropout(0.3)\n",
    "        \n",
    "        # linear and sigmoid layers\n",
    "        self.fc = nn.Linear(hidden_dim, output_size)\n",
    "        self.sig = nn.Sigmoid()\n",
    "        \n",
    "\n",
    "    def forward(self, x, hidden):\n",
    "        \"\"\"\n",
    "        Perform a forward pass of our model on some input and hidden state.\n",
    "        \"\"\"\n",
    "        batch_size = x.size(0)\n",
    "\n",
    "        # embeddings and lstm_out\n",
    "        embeds = self.embedding(x)\n",
    "        lstm_out, hidden = self.lstm(embeds, hidden)\n",
    "    \n",
    "        # stack up lstm outputs\n",
    "        lstm_out = lstm_out.contiguous().view(-1, self.hidden_dim)\n",
    "        \n",
    "        # dropout and fully-connected layer\n",
    "        out = self.dropout(lstm_out)\n",
    "        out = self.fc(out)\n",
    "        # sigmoid function\n",
    "        sig_out = self.sig(out)\n",
    "        \n",
    "        # reshape to be batch_size first\n",
    "        sig_out = sig_out.view(batch_size, -1)\n",
    "        sig_out = sig_out[:, -1] # get last batch of labels\n",
    "        \n",
    "        # return last sigmoid output and hidden state\n",
    "        return sig_out, hidden\n",
    "    \n",
    "    \n",
    "    def init_hidden(self, batch_size, train_on_gpu=True):\n",
    "        ''' Initializes hidden state '''\n",
    "        # Create two new tensors with sizes n_layers x batch_size x hidden_dim,\n",
    "        # initialized to zero, for hidden state and cell state of LSTM\n",
    "        weight = next(self.parameters()).data\n",
    "        \n",
    "        if (train_on_gpu):\n",
    "            hidden = (weight.new(self.n_layers, batch_size, self.hidden_dim).zero_().cuda(),\n",
    "                  weight.new(self.n_layers, batch_size, self.hidden_dim).zero_().cuda())\n",
    "        else:\n",
    "            hidden = (weight.new(self.n_layers, batch_size, self.hidden_dim).zero_(),\n",
    "                      weight.new(self.n_layers, batch_size, self.hidden_dim).zero_())\n",
    "        \n",
    "        return hidden"
   ]
  },
  {
   "cell_type": "code",
   "execution_count": null,
   "metadata": {},
   "outputs": [
    {
     "name": "stdout",
     "output_type": "stream",
     "text": [
      "Epoch1\n"
     ]
    },
    {
     "name": "stderr",
     "output_type": "stream",
     "text": [
      "100%|██████████| 21000/21000 [22:40<00:00, 15.44it/s]\n"
     ]
    },
    {
     "name": "stdout",
     "output_type": "stream",
     "text": [
      "Score: 1,0.0\n",
      "Epoch2\n"
     ]
    },
    {
     "name": "stderr",
     "output_type": "stream",
     "text": [
      "100%|██████████| 21000/21000 [22:41<00:00, 15.42it/s]\n"
     ]
    },
    {
     "name": "stdout",
     "output_type": "stream",
     "text": [
      "Score: 2,0.0\n",
      "Epoch3\n"
     ]
    },
    {
     "name": "stderr",
     "output_type": "stream",
     "text": [
      "100%|██████████| 21000/21000 [22:08<00:00, 15.80it/s]\n"
     ]
    },
    {
     "name": "stdout",
     "output_type": "stream",
     "text": [
      "Score: 3,0.0\n",
      "Epoch4\n"
     ]
    },
    {
     "name": "stderr",
     "output_type": "stream",
     "text": [
      "100%|██████████| 21000/21000 [21:51<00:00, 16.01it/s]\n"
     ]
    },
    {
     "name": "stdout",
     "output_type": "stream",
     "text": [
      "Score: 4,0.0\n",
      "Epoch5\n"
     ]
    },
    {
     "name": "stderr",
     "output_type": "stream",
     "text": [
      "100%|██████████| 21000/21000 [21:51<00:00, 16.02it/s]\n"
     ]
    },
    {
     "name": "stdout",
     "output_type": "stream",
     "text": [
      "Score: 5,0.0\n",
      "Input vector\n",
      "[[  34  288 2478    1  175   22    7  201    1  248   86  188   12   78\n",
      "   997  272 1113 1113 1113 1113 1113 1113 1113 1113 1113 1113 1113 1113\n",
      "  1113 1113 1113 1113 1113 1113 1113 1113 1113 1113 1113 1113 1113 1113\n",
      "  1113 1113 1113 1113 1113 1113 1113 1113 1113 1113 1113 1113 1113 1113\n",
      "  1113 1113 1113 1113 1113 1113 1113 1113 1113 1113 1113 1113 1113 1113\n",
      "  1113 1113 1113 1113 1113 1113 1113 1113 1113 1113 1113 1113 1113 1113\n",
      "  1113 1113 1113 1113 1113 1113 1113 1113 1113 1113 1113 1113 1113 1113\n",
      "  1113 1113 1113 1113 1113 1113 1113 1113 1113 1113 1113 1113 1113 1113\n",
      "  1113 1113 1113 1113 1113 1113 1113 1113 1113 1113 1113 1113 1113 1113\n",
      "  1113 1113 1113 1113 1113 1113 1113 1113 1113 1113 1113 1113 1113 1113\n",
      "  1113 1113 1113 1113 1113 1113 1113 1113 1113 1113 1113 1113 1113 1113\n",
      "  1113 1113 1113 1113 1113 1113 1113 1113 1113 1113 1113 1113 1113 1113\n",
      "  1113 1113 1113 1113 1113 1113 1113 1113 1113 1113 1113 1113 1113 1113\n",
      "  1113 1113 1113 1113 1113 1113 1113 1113 1113 1113 1113 1113 1113 1113\n",
      "  1113 1113 1113 1113 1113 1113 1113 1113 1113 1113 1113 1113 1113 1113\n",
      "  1113 1113 1113 1113 1113 1113 1113 1113 1113 1113 1113 1113 1113 1113\n",
      "  1113 1113 1113 1113 1113 1113 1113 1113 1113 1113 1113 1113 1113 1113\n",
      "  1113 1113 1113 1113 1113 1113 1113 1113 1113 1113 1113 1113 1113 1113\n",
      "  1113 1113 1113 1113 1113 1113 1113 1113 1113 1113 1113 1113 1113 1113\n",
      "  1113 1113 1113 1113 1113 1113 1113 1113 1113 1113 1113 1113 1113 1113\n",
      "  1113 1113 1113 1113 1113 1113 1113 1113 1113 1113 1113 1113 1113 1113\n",
      "  1113 1113 1113 1113 1113 1113 1113 1113 1113 1113 1113 1113 1113 1113\n",
      "  1113 1113 1113 1113 1113 1113 1113 1113 1113 1113 1113 1113 1113 1113\n",
      "  1113 1113 1113 1113 1113 1113 1113 1113 1113 1113 1113 1113 1113 1113\n",
      "  1113 1113 1113 1113 1113 1113 1113 1113 1113 1113 1113 1113 1113 1113\n",
      "  1113 1113 1113 1113 1113 1113 1113 1113 1113 1113 1113 1113 1113 1113\n",
      "  1113 1113 1113 1113 1113 1113 1113 1113 1113 1113 1113 1113 1113 1113\n",
      "  1113 1113 1113 1113 1113 1113 1113 1113 1113 1113 1113 1113 1113 1113\n",
      "  1113 1113 1113 1113 1113 1113 1113 1113 1113 1113 1113 1113 1113 1113\n",
      "  1113 1113 1113 1113 1113 1113 1113 1113 1113 1113 1113 1113 1113 1113\n",
      "  1113 1113 1113 1113 1113 1113 1113 1113 1113 1113 1113 1113 1113 1113\n",
      "  1113 1113 1113 1113 1113 1113 1113 1113 1113 1113 1113 1113 1113 1113\n",
      "  1113 1113 1113 1113 1113 1113 1113 1113 1113 1113 1113 1113 1113 1113\n",
      "  1113 1113 1113 1113 1113 1113 1113 1113 1113 1113 1113 1113 1113 1113\n",
      "  1113 1113 1113 1113 1113 1113 1113 1113 1113 1113 1113 1113 1113 1113\n",
      "  1113 1113 1113 1113 1113 1113 1113 1113 1113 1113 1113 1113 1113 1113\n",
      "  1113 1113 1113 1113 1113 1113 1113 1113 1113 1113 1113 1113 1113 1113\n",
      "  1113 1113 1113 1113 1113 1113 1113 1113 1113 1113 1113 1113 1113 1113\n",
      "  1113 1113 1113 1113 1113 1113 1113 1113 1113 1113 1113 1113 1113 1113\n",
      "  1113 1113 1113 1113 1113 1113 1113 1113 1113 1113 1113 1113 1113 1113\n",
      "  1113 1113 1113 1113 1113 1113 1113 1113 1113 1113 1113 1113 1113 1113\n",
      "  1113 1113 1113 1113 1113 1113 1113 1113 1113 1113 1113 1113 1113 1113\n",
      "  1113 1113 1113 1113 1113 1113 1113 1113 1113 1113 1113 1113 1113 1113\n",
      "  1113 1113 1113 1113 1113 1113 1113 1113 1113 1113 1113 1113 1113 1113\n",
      "  1113 1113 1113 1113 1113 1113 1113 1113 1113 1113 1113 1113 1113 1113\n",
      "  1113 1113 1113 1113 1113 1113 1113 1113 1113 1113 1113 1113 1113 1113\n",
      "  1113 1113 1113 1113 1113 1113 1113 1113 1113 1113 1113 1113 1113 1113\n",
      "  1113 1113 1113 1113 1113 1113 1113 1113 1113 1113 1113 1113 1113 1113\n",
      "  1113 1113 1113 1113 1113 1113 1113 1113 1113 1113 1113 1113 1113 1113\n",
      "  1113 1113 1113 1113 1113 1113 1113 1113 1113 1113 1113 1113 1113 1113\n",
      "  1113 1113 1113 1113 1113 1113 1113 1113 1113 1113 1113 1113 1113 1113\n",
      "  1113 1113 1113 1113 1113 1113 1113 1113 1113 1113 1113 1113 1113 1113\n",
      "  1113 1113 1113 1113 1113 1113 1113 1113 1113 1113 1113 1113 1113 1113\n",
      "  1113 1113 1113 1113 1113 1113 1113 1113 1113 1113 1113 1113 1113 1113\n",
      "  1113 1113 1113 1113 1113 1113 1113 1113 1113 1113 1113 1113 1113 1113\n",
      "  1113 1113 1113 1113 1113 1113 1113 1113 1113 1113 1113 1113 1113 1113\n",
      "  1113 1113 1113 1113 1113 1113 1113 1113 1113 1113 1113 1113 1113 1113\n",
      "  1113 1113 1113 1113 1113 1113 1113 1113 1113 1113 1113 1113 1113 1113\n",
      "  1113 1113 1113 1113 1113 1113 1113 1113 1113 1113 1113 1113 1113 1113\n",
      "  1113 1113 1113 1113 1113 1113 1113 1113 1113 1113 1113 1113 1113 1113\n",
      "  1113 1113 1113 1113 1113 1113 1113 1113 1113 1113 1113 1113 1113 1113\n",
      "  1113 1113 1113 1113 1113 1113 1113 1113 1113 1113 1113 1113 1113 1113\n",
      "  1113 1113 1113 1113 1113 1113 1113 1113 1113 1113 1113 1113 1113 1113\n",
      "  1113 1113 1113 1113 1113 1113 1113 1113 1113 1113 1113 1113 1113 1113\n",
      "  1113 1113 1113 1113 1113 1113 1113 1113 1113 1113 1113 1113 1113 1113\n",
      "  1113 1113 1113 1113 1113 1113 1113 1113 1113 1113 1113 1113 1113 1113\n",
      "  1113 1113 1113]]\n",
      "Probs\n",
      "tensor([0.5042], device='cuda:0', grad_fn=<SelectBackward0>)\n"
     ]
    },
    {
     "ename": "IndexError",
     "evalue": "Dimension out of range (expected to be in range of [-1, 0], but got 1)",
     "output_type": "error",
     "traceback": [
      "\u001b[0;31m---------------------------------------------------------------------------\u001b[0m",
      "\u001b[0;31mIndexError\u001b[0m                                Traceback (most recent call last)",
      "Cell \u001b[0;32mIn[39], line 78\u001b[0m\n\u001b[1;32m     76\u001b[0m \u001b[39mprint\u001b[39m(\u001b[39m\"\u001b[39m\u001b[39mProbs\u001b[39m\u001b[39m\"\u001b[39m)\n\u001b[1;32m     77\u001b[0m \u001b[39mprint\u001b[39m(probs)\n\u001b[0;32m---> 78\u001b[0m \u001b[39mprint\u001b[39m(torch\u001b[39m.\u001b[39;49margmax(probs, dim\u001b[39m=\u001b[39;49m\u001b[39m1\u001b[39;49m)\u001b[39m.\u001b[39mcpu()\u001b[39m.\u001b[39mnumpy()[\u001b[39m0\u001b[39m])\n",
      "\u001b[0;31mIndexError\u001b[0m: Dimension out of range (expected to be in range of [-1, 0], but got 1)"
     ]
    }
   ],
   "source": [
    "from tqdm import tqdm\n",
    "NUM_CLASSES = 3\n",
    "VOCAB_SIZE = len(w2vmodel.wv.index_to_key)\n",
    "\n",
    "lstm_model = SentimentLSTM(vocab_size=VOCAB_SIZE, output_size=NUM_CLASSES, embedding_dim=EMBEDDING_SIZE, hidden_dim = 256, n_layers=2)\n",
    "lstm_model.to(device)\n",
    "loss_function = nn.CrossEntropyLoss()\n",
    "optimizer = optim.Adam(lstm_model.parameters(), lr=0.001)\n",
    "num_epochs = 5\n",
    "\n",
    "# Open the file for writing loss\n",
    "if not os.path.exists(os.path.join(OUTPUT_FOLDER, 'lstm', 'plots')):\n",
    "    os.makedirs(os.path.join(OUTPUT_FOLDER, 'lstm', 'plots'))\n",
    "if not os.path.exists(os.path.join(OUTPUT_FOLDER, 'lstm', 'ckpts')):\n",
    "    os.makedirs(os.path.join(OUTPUT_FOLDER, 'lstm', 'ckpts'))\n",
    "\n",
    "loss_file_name = os.path.join(OUTPUT_FOLDER, 'lstm', 'plots/','lstm_class_big_loss_with_padding.csv') \n",
    "with open(loss_file_name,'w') as f:\n",
    "    f.write('iter, loss')\n",
    "    f.write('\\n')\n",
    "losses = []\n",
    "lstm_model.train()\n",
    "batch_size = 1 #len(X_train)\n",
    "for epoch in range(num_epochs):\n",
    "    print(\"Epoch\" + str(epoch + 1))\n",
    "    train_loss = 0\n",
    "    h = lstm_model.init_hidden(batch_size)\n",
    "    for index, row in tqdm(X_train.iterrows(), total=len(X_train)):\n",
    "        # Clearing the accumulated gradients\n",
    "        lstm_model.zero_grad()\n",
    "\n",
    "        # Make the bag of words vector for stemmed tokens \n",
    "        bow_vec = make_word2vec_vector_cnn(row['stemmed_tokens'])\n",
    "        \n",
    "        # Creating new variables for the hidden state, otherwise\n",
    "        # we'd backprop through the entire training history\n",
    "        h = tuple([each.data for each in h])\n",
    "       \n",
    "        # Forward pass to get output\n",
    "        probs, h = lstm_model(bow_vec, h)\n",
    "\n",
    "        # Get the target label\n",
    "        target = make_target(Y_train['sentiment'][index])\n",
    "\n",
    "        # Calculate Loss: softmax --> cross entropy loss\n",
    "        loss = loss_function(probs, target.float())\n",
    "        train_loss += loss.item()\n",
    "\n",
    "        # Getting gradients w.r.t. parameters\n",
    "        nn.utils.clip_grad_norm_(lstm_model.parameters(), 5)\n",
    "        loss.backward()\n",
    "\n",
    "        # Updating parameters\n",
    "        optimizer.step()\n",
    "\n",
    "\n",
    "    # if index == 0:\n",
    "    #     continue\n",
    "    print(\"Score: \" + str((epoch+1)) + \",\" + str(train_loss / len(X_train)))\n",
    "    with open(loss_file_name, 'a') as f:\n",
    "        f.write(str((epoch+1)) + \",\" + str(train_loss / len(X_train)))\n",
    "        f.write('\\n')\n",
    "    \n",
    "    if epoch % 1 == 0:\n",
    "        torch.save({\n",
    "            'epoch': epoch,\n",
    "            'model_state_dict': cnn_model.state_dict(),\n",
    "            'optimizer_state_dict': optimizer.state_dict(),\n",
    "            'loss': train_loss,\n",
    "            }, os.path.join(OUTPUT_FOLDER, 'lstm', 'ckpts', f'epoch_{epoch}.pt'))\n",
    "    train_loss = 0\n",
    "\n",
    "torch.save(lstm_model, os.path.join(OUTPUT_FOLDER, 'lstm', 'lstm_big_model_500_with_padding.pth'))\n",
    "print(\"Input vector\")\n",
    "print(bow_vec.cpu().numpy())\n",
    "print(\"Probs\")\n",
    "print(probs)\n",
    "print(torch.argmax(probs, dim=1).cpu().numpy()[0])"
   ]
  },
  {
   "cell_type": "code",
   "execution_count": null,
   "metadata": {},
   "outputs": [],
   "source": [
    "from sklearn.metrics import classification_report\n",
    "bow_lstm_predictions = []\n",
    "original_lables_lstm_bow = []\n",
    "lstm_model = torch.load(os.path.join(OUTPUT_FOLDER, 'lstm', 'lstm_big_model_500_with_padding.pth'))\n",
    "lstm_model.eval()\n",
    "loss_df = pd.read_csv(os.path.join(OUTPUT_FOLDER, 'lstm', 'plots', 'lstm_class_big_loss_with_padding.csv'))\n",
    "print(loss_df.columns)\n",
    "# loss_df.plot('loss')\n",
    "batch_size=1\n",
    "h = lstm_model.init_hidden(batch_size)\n",
    "with torch.no_grad():\n",
    "    for index, row in tqdm(X_test.iterrows(), total=len(X_test)):\n",
    "        bow_vec = make_word2vec_vector_cnn(row['stemmed_tokens'])\n",
    "        h = tuple([each.data for each in h])\n",
    "        probs, h = lstm_model(bow_vec, h)\n",
    "        # _, predicted = torch.max(probs.data, 1)\n",
    "        bow_lstm_predictions.append(probs.cpu().numpy()[0])\n",
    "        original_lables_lstm_bow.append(make_target(Y_test['sentiment'][index]).cpu().numpy()[0])\n"
   ]
  },
  {
   "cell_type": "code",
   "execution_count": 89,
   "metadata": {},
   "outputs": [
    {
     "name": "stdout",
     "output_type": "stream",
     "text": [
      "              precision    recall  f1-score   support\n",
      "\n",
      "           0       0.00      0.00      0.00      2992\n",
      "           1       0.34      1.00      0.51      3044\n",
      "           2       0.00      0.00      0.00      2964\n",
      "\n",
      "    accuracy                           0.34      9000\n",
      "   macro avg       0.11      0.33      0.17      9000\n",
      "weighted avg       0.11      0.34      0.17      9000\n",
      "\n"
     ]
    },
    {
     "name": "stderr",
     "output_type": "stream",
     "text": [
      "/home/parker-alien/miniconda3/envs/torch/lib/python3.10/site-packages/sklearn/metrics/_classification.py:1344: UndefinedMetricWarning: Precision and F-score are ill-defined and being set to 0.0 in labels with no predicted samples. Use `zero_division` parameter to control this behavior.\n",
      "  _warn_prf(average, modifier, msg_start, len(result))\n",
      "/home/parker-alien/miniconda3/envs/torch/lib/python3.10/site-packages/sklearn/metrics/_classification.py:1344: UndefinedMetricWarning: Precision and F-score are ill-defined and being set to 0.0 in labels with no predicted samples. Use `zero_division` parameter to control this behavior.\n",
      "  _warn_prf(average, modifier, msg_start, len(result))\n",
      "/home/parker-alien/miniconda3/envs/torch/lib/python3.10/site-packages/sklearn/metrics/_classification.py:1344: UndefinedMetricWarning: Precision and F-score are ill-defined and being set to 0.0 in labels with no predicted samples. Use `zero_division` parameter to control this behavior.\n",
      "  _warn_prf(average, modifier, msg_start, len(result))\n"
     ]
    }
   ],
   "source": [
    "print(classification_report(original_lables_lstm_bow,list(map(round,bow_lstm_predictions))))"
   ]
  },
  {
   "cell_type": "code",
   "execution_count": null,
   "metadata": {},
   "outputs": [],
   "source": [
    "import pandas as pd\n",
    "import torch\n",
    "from torch.utils.data import Dataset, DataLoader\n",
    "import numpy as np\n",
    "# Define a custom dataset class that inherits from PyTorch's Dataset class\n",
    "class MyDataset(Dataset):\n",
    "    def __init__(self, X, Y):\n",
    "        self.data_x = X\n",
    "        self.data_y = Y\n",
    "\n",
    "    def __len__(self):\n",
    "        return len(self.data_x)\n",
    "\n",
    "    def __getitem__(self, index):\n",
    "        def make_target_lstm(label):\n",
    "            if label == -1:\n",
    "                return 0\n",
    "            elif label == 0:\n",
    "                return 1\n",
    "            else:\n",
    "                return 2\n",
    "        max_sen_len = top_data_df_small.stemmed_tokens.map(len).max()\n",
    "        padding_idx = w2vmodel.wv.key_to_index['pad']\n",
    "        def make_word2vec_vector_lstm(sentence):\n",
    "            padded_X = [padding_idx for i in range(max_sen_len)]\n",
    "            i = 0\n",
    "            for word in sentence:\n",
    "                if word not in w2vmodel.wv.key_to_index:\n",
    "                    padded_X[i] = 0\n",
    "                    print(word)\n",
    "                else:\n",
    "                    padded_X[i] = w2vmodel.wv.key_to_index[word]\n",
    "                i += 1\n",
    "            return np.array(padded_X)\n",
    "        x = self.data_x.iloc[index, self.data_x.columns.get_loc('stemmed_tokens')]\n",
    "        y = self.data_y.iloc[index, self.data_y.columns.get_loc(\"sentiment\")]\n",
    "        return make_word2vec_vector_lstm(x), make_target_lstm(y)\n"
   ]
  },
  {
   "cell_type": "code",
   "execution_count": 97,
   "metadata": {},
   "outputs": [],
   "source": [
    "from torch.autograd import Variable\n",
    "import torch\n",
    "class EmbeddingLSTM(nn.Module):\n",
    "    \"\"\" LSTM Model that learns its own character embeddings. Max index 256 hardcoded. \"\"\"\n",
    "\n",
    "    def __init__(self, **kwargs):\n",
    "        \"\"\"\n",
    "        Initalize new EmbeddingLSTM model.\n",
    "        :keyword hidden_size: number of hidden units.\n",
    "        :keyword num_layers: number of LSTM layers.\n",
    "        :keyword embedding_dim: Dimensionality of the embeddings.\n",
    "        \"\"\"\n",
    "        super().__init__()\n",
    "        self.hidden_size = kwargs[\"hidden_size\"]\n",
    "        self.num_layers = kwargs[\"num_layers\"]\n",
    "        self.output_size = kwargs[\"output_size\"]\n",
    "        self.embedding_dim = kwargs[\"embedding_dim\"]\n",
    "        self.input_size = kwargs['input_size']\n",
    "        w2vmodel = gensim.models.KeyedVectors.load(os.path.join(OUTPUT_FOLDER, 'models/', 'word2vec_500_PAD.model'))\n",
    "        weights = w2vmodel.wv\n",
    "        # With pretrained embeddings\n",
    "        # self.char_embeddings = nn.Embedding.from_pretrained(torch.FloatTensor(weights.vectors), padding_idx=w2vmodel.wv.key_to_index['pad']).cuda()\n",
    "        self.char_embeddings = nn.Embedding(self.input_size,  embedding_dim=self.embedding_dim)\n",
    "        self.lstm = nn.LSTM(self.embedding_dim, hidden_size=self.hidden_size, num_layers=self.num_layers)\n",
    "        self.output_layer = nn.Linear(self.hidden_size, self.output_size)\n",
    "        self.dropout = nn.Dropout(0.7)\n",
    "        \n",
    "        # linear and sigmoid layers\n",
    "        self.fc = nn.Linear(self.hidden_size, self.output_size)\n",
    "\n",
    "\n",
    "    def forward(self, sequence):\n",
    "        lengths= len(sequence)\n",
    "        embeds = self.char_embeddings(sequence.cuda())\n",
    "\n",
    "        \n",
    "        self.h0 = Variable(torch.cuda.FloatTensor(self.num_layers, lengths, self.hidden_size).fill_(0.))\n",
    "        self.c0 = Variable(torch.cuda.FloatTensor(self.num_layers, lengths, self.hidden_size).fill_(0.))\n",
    "        output, hn = self.lstm(embeds.permute(1, 0, 2), (self.h0, self.c0))\n",
    "        lstm_out = output.contiguous().view(-1, self.hidden_size)\n",
    "        \n",
    "        # dropout and fully-connected layer\n",
    "        out = self.dropout(lstm_out)\n",
    "        out = self.fc(out)\n",
    "        # sigmoid function\n",
    "        # reshape to be batch_size first\n",
    "        sig_out = out.view(lengths, -1)\n",
    "        sig_out = sig_out[:, -1] # get last batch of labels\n",
    "        \n",
    "        # return last sigmoid output and hidden state\n",
    "        return torch.round(sig_out)\n",
    "\n",
    "    def get_name(self):\n",
    "        return \"EmbeddingLSTM_h{}_l{}_i{}_e{}\".format(self.hidden_size, self.num_layers, self.input_size)"
   ]
  },
  {
   "cell_type": "code",
   "execution_count": 98,
   "metadata": {},
   "outputs": [
    {
     "name": "stderr",
     "output_type": "stream",
     "text": [
      "  0%|          | 0/30 [00:00<?, ?it/s]"
     ]
    },
    {
     "name": "stdout",
     "output_type": "stream",
     "text": [
      "Epoch1\n",
      "-150.637804746627822559\n",
      "Score: 1,tensor(0.0009, device='cuda:0', grad_fn=<DivBackward0>)\n"
     ]
    },
    {
     "name": "stderr",
     "output_type": "stream",
     "text": [
      "  3%|▎         | 1/30 [02:30<1:12:56, 150.91s/it]"
     ]
    },
    {
     "name": "stdout",
     "output_type": "stream",
     "text": [
      "Epoch2\n",
      "-152.264958858493291016\n",
      "Score: 2,tensor(0.0011, device='cuda:0', grad_fn=<DivBackward0>)\n"
     ]
    },
    {
     "name": "stderr",
     "output_type": "stream",
     "text": [
      "  7%|▋         | 2/30 [05:03<1:10:52, 151.86s/it]"
     ]
    },
    {
     "name": "stdout",
     "output_type": "stream",
     "text": [
      "Epoch3\n",
      "-151.374551534652790625\n",
      "Score: 3,tensor(0.0009, device='cuda:0', grad_fn=<DivBackward0>)\n"
     ]
    },
    {
     "name": "stderr",
     "output_type": "stream",
     "text": [
      " 10%|█         | 3/30 [07:35<1:08:17, 151.76s/it]"
     ]
    },
    {
     "name": "stdout",
     "output_type": "stream",
     "text": [
      "Epoch4\n",
      "-150.336386680603031152\n",
      "Score: 4,tensor(0.0004, device='cuda:0', grad_fn=<DivBackward0>)\n"
     ]
    },
    {
     "name": "stderr",
     "output_type": "stream",
     "text": [
      " 13%|█▎        | 4/30 [10:05<1:05:33, 151.30s/it]"
     ]
    },
    {
     "name": "stdout",
     "output_type": "stream",
     "text": [
      "Epoch5\n",
      "-149.951744318008423775\n",
      "Score: 5,tensor(0.0010, device='cuda:0', grad_fn=<DivBackward0>)\n"
     ]
    },
    {
     "name": "stderr",
     "output_type": "stream",
     "text": [
      " 17%|█▋        | 5/30 [12:35<1:02:52, 150.91s/it]"
     ]
    },
    {
     "name": "stdout",
     "output_type": "stream",
     "text": [
      "Epoch6\n",
      "-149.812263011932375586\n",
      "Score: 6,tensor(0.0009, device='cuda:0', grad_fn=<DivBackward0>)\n"
     ]
    },
    {
     "name": "stderr",
     "output_type": "stream",
     "text": [
      " 20%|██        | 6/30 [15:05<1:00:14, 150.62s/it]"
     ]
    },
    {
     "name": "stdout",
     "output_type": "stream",
     "text": [
      "Epoch7\n",
      "-149.765389919281332527\n",
      "Score: 7,tensor(0.0010, device='cuda:0', grad_fn=<DivBackward0>)\n"
     ]
    },
    {
     "name": "stderr",
     "output_type": "stream",
     "text": [
      " 23%|██▎       | 7/30 [17:35<57:39, 150.43s/it]  "
     ]
    },
    {
     "name": "stdout",
     "output_type": "stream",
     "text": [
      "Epoch8\n",
      "-150.238314151763927969\n",
      "Score: 8,tensor(0.0006, device='cuda:0', grad_fn=<DivBackward0>)\n"
     ]
    },
    {
     "name": "stderr",
     "output_type": "stream",
     "text": [
      " 27%|██▋       | 8/30 [20:06<55:09, 150.45s/it]"
     ]
    },
    {
     "name": "stdout",
     "output_type": "stream",
     "text": [
      "Epoch9\n",
      "-149.805785655975346699\n",
      "Score: 9,tensor(0.0007, device='cuda:0', grad_fn=<DivBackward0>)\n"
     ]
    },
    {
     "name": "stderr",
     "output_type": "stream",
     "text": [
      " 30%|███       | 9/30 [22:36<52:36, 150.33s/it]"
     ]
    },
    {
     "name": "stdout",
     "output_type": "stream",
     "text": [
      "Epoch10\n",
      "-149.633454799652143367\n",
      "Score: 10,tensor(0.0008, device='cuda:0', grad_fn=<DivBackward0>)\n"
     ]
    },
    {
     "name": "stderr",
     "output_type": "stream",
     "text": [
      " 33%|███▎      | 10/30 [25:06<50:03, 150.19s/it]"
     ]
    },
    {
     "name": "stdout",
     "output_type": "stream",
     "text": [
      "Epoch11\n",
      "-150.130679845809940684\n",
      "Score: 11,tensor(0.0014, device='cuda:0', grad_fn=<DivBackward0>)\n"
     ]
    },
    {
     "name": "stderr",
     "output_type": "stream",
     "text": [
      " 37%|███▋      | 11/30 [27:36<47:34, 150.25s/it]"
     ]
    },
    {
     "name": "stdout",
     "output_type": "stream",
     "text": [
      "Epoch12\n",
      "-149.499754905700689043\n",
      "Score: 12,tensor(0.0006, device='cuda:0', grad_fn=<DivBackward0>)\n"
     ]
    },
    {
     "name": "stderr",
     "output_type": "stream",
     "text": [
      " 40%|████      | 12/30 [30:06<45:01, 150.10s/it]"
     ]
    },
    {
     "name": "stdout",
     "output_type": "stream",
     "text": [
      "Epoch13\n",
      "-149.223922729492246875\n",
      "Score: 13,tensor(0.0013, device='cuda:0', grad_fn=<DivBackward0>)\n"
     ]
    },
    {
     "name": "stderr",
     "output_type": "stream",
     "text": [
      " 43%|████▎     | 13/30 [32:36<42:28, 149.91s/it]"
     ]
    },
    {
     "name": "stdout",
     "output_type": "stream",
     "text": [
      "Epoch14\n",
      "-149.320744991302529395\n",
      "Score: 14,tensor(0.0006, device='cuda:0', grad_fn=<DivBackward0>)\n"
     ]
    },
    {
     "name": "stderr",
     "output_type": "stream",
     "text": [
      " 47%|████▋     | 14/30 [35:05<39:56, 149.81s/it]"
     ]
    },
    {
     "name": "stdout",
     "output_type": "stream",
     "text": [
      "Epoch15\n",
      "-149.549003124237067402\n",
      "Score: 15,tensor(0.0010, device='cuda:0', grad_fn=<DivBackward0>)\n"
     ]
    },
    {
     "name": "stderr",
     "output_type": "stream",
     "text": [
      " 50%|█████     | 15/30 [37:35<37:27, 149.81s/it]"
     ]
    },
    {
     "name": "stdout",
     "output_type": "stream",
     "text": [
      "Epoch16\n",
      "-149.755682229995737138\n",
      "Score: 16,tensor(0.0011, device='cuda:0', grad_fn=<DivBackward0>)\n"
     ]
    },
    {
     "name": "stderr",
     "output_type": "stream",
     "text": [
      " 53%|█████▎    | 16/30 [40:05<34:58, 149.87s/it]"
     ]
    },
    {
     "name": "stdout",
     "output_type": "stream",
     "text": [
      "Epoch17\n",
      "-150.046119213104251626\n",
      "Score: 17,tensor(0.0010, device='cuda:0', grad_fn=<DivBackward0>)\n"
     ]
    },
    {
     "name": "stderr",
     "output_type": "stream",
     "text": [
      " 57%|█████▋    | 17/30 [42:35<32:29, 150.00s/it]"
     ]
    },
    {
     "name": "stdout",
     "output_type": "stream",
     "text": [
      "Epoch18\n",
      "-149.528529405593872031\n",
      "Score: 18,tensor(0.0007, device='cuda:0', grad_fn=<DivBackward0>)\n"
     ]
    },
    {
     "name": "stderr",
     "output_type": "stream",
     "text": [
      " 60%|██████    | 18/30 [45:05<29:59, 149.94s/it]"
     ]
    },
    {
     "name": "stdout",
     "output_type": "stream",
     "text": [
      "Epoch19\n",
      "-149.636194705963134355\n",
      "Score: 19,tensor(0.0012, device='cuda:0', grad_fn=<DivBackward0>)\n"
     ]
    },
    {
     "name": "stderr",
     "output_type": "stream",
     "text": [
      " 63%|██████▎   | 19/30 [47:35<27:29, 149.93s/it]"
     ]
    },
    {
     "name": "stdout",
     "output_type": "stream",
     "text": [
      "Epoch20\n",
      "-149.609053134918226562\n",
      "Score: 20,tensor(0.0007, device='cuda:0', grad_fn=<DivBackward0>)\n"
     ]
    },
    {
     "name": "stderr",
     "output_type": "stream",
     "text": [
      " 67%|██████▋   | 20/30 [50:05<24:59, 149.91s/it]"
     ]
    },
    {
     "name": "stdout",
     "output_type": "stream",
     "text": [
      "Epoch21\n",
      "-149.804746627807625156\n",
      "Score: 21,tensor(0.0006, device='cuda:0', grad_fn=<DivBackward0>)\n"
     ]
    },
    {
     "name": "stderr",
     "output_type": "stream",
     "text": [
      " 70%|███████   | 21/30 [52:35<22:29, 149.96s/it]"
     ]
    },
    {
     "name": "stdout",
     "output_type": "stream",
     "text": [
      "Epoch22\n",
      "-150.500510931015018223\n",
      "Score: 22,tensor(0.0007, device='cuda:0', grad_fn=<DivBackward0>)\n"
     ]
    },
    {
     "name": "stderr",
     "output_type": "stream",
     "text": [
      " 73%|███████▎  | 22/30 [55:06<20:01, 150.19s/it]"
     ]
    },
    {
     "name": "stdout",
     "output_type": "stream",
     "text": [
      "Epoch23\n",
      "-150.522924900054931934\n",
      "Score: 23,tensor(0.0008, device='cuda:0', grad_fn=<DivBackward0>)\n"
     ]
    },
    {
     "name": "stderr",
     "output_type": "stream",
     "text": [
      " 77%|███████▋  | 23/30 [57:36<17:32, 150.37s/it]"
     ]
    },
    {
     "name": "stdout",
     "output_type": "stream",
     "text": [
      "Epoch24\n",
      "-149.207970380783085024\n",
      "Score: 24,tensor(0.0008, device='cuda:0', grad_fn=<DivBackward0>)\n"
     ]
    },
    {
     "name": "stderr",
     "output_type": "stream",
     "text": [
      " 80%|████████  | 24/30 [1:00:06<15:00, 150.09s/it]"
     ]
    },
    {
     "name": "stdout",
     "output_type": "stream",
     "text": [
      "Epoch25\n",
      "-149.530556440353487509\n",
      "Score: 25,tensor(0.0006, device='cuda:0', grad_fn=<DivBackward0>)\n"
     ]
    },
    {
     "name": "stderr",
     "output_type": "stream",
     "text": [
      " 83%|████████▎ | 25/30 [1:02:36<12:29, 150.00s/it]"
     ]
    },
    {
     "name": "stdout",
     "output_type": "stream",
     "text": [
      "Epoch26\n",
      "-152.143159866333377441\n",
      "Score: 26,tensor(0.0009, device='cuda:0', grad_fn=<DivBackward0>)\n"
     ]
    },
    {
     "name": "stderr",
     "output_type": "stream",
     "text": [
      " 87%|████████▋ | 26/30 [1:05:08<10:02, 150.72s/it]"
     ]
    },
    {
     "name": "stdout",
     "output_type": "stream",
     "text": [
      "Epoch27\n",
      "-149.801032781600958965\n",
      "Score: 27,tensor(0.0007, device='cuda:0', grad_fn=<DivBackward0>)\n"
     ]
    },
    {
     "name": "stderr",
     "output_type": "stream",
     "text": [
      " 90%|█████████ | 27/30 [1:07:38<07:31, 150.53s/it]"
     ]
    },
    {
     "name": "stdout",
     "output_type": "stream",
     "text": [
      "Epoch28\n",
      "-151.848104000091554531\n",
      "Score: 28,tensor(0.0004, device='cuda:0', grad_fn=<DivBackward0>)\n"
     ]
    },
    {
     "name": "stderr",
     "output_type": "stream",
     "text": [
      " 93%|█████████▎| 28/30 [1:10:10<05:02, 151.00s/it]"
     ]
    },
    {
     "name": "stdout",
     "output_type": "stream",
     "text": [
      "Epoch29\n",
      "-152.564974546432507915\n",
      "Score: 29,tensor(0.0011, device='cuda:0', grad_fn=<DivBackward0>)\n"
     ]
    },
    {
     "name": "stderr",
     "output_type": "stream",
     "text": [
      " 97%|█████████▋| 29/30 [1:12:43<02:31, 151.56s/it]"
     ]
    },
    {
     "name": "stdout",
     "output_type": "stream",
     "text": [
      "Epoch30\n",
      "-151.918122768402138383\n",
      "Score: 30,tensor(0.0007, device='cuda:0', grad_fn=<DivBackward0>)\n"
     ]
    },
    {
     "name": "stderr",
     "output_type": "stream",
     "text": [
      "100%|██████████| 30/30 [1:15:15<00:00, 150.52s/it]\n"
     ]
    }
   ],
   "source": [
    "from tqdm import tqdm\n",
    "import time\n",
    "NUM_CLASSES = 3\n",
    "VOCAB_SIZE = len(w2vmodel.wv.index_to_key)\n",
    "\n",
    "lstm_model = EmbeddingLSTM(input_size=VOCAB_SIZE, output_size=NUM_CLASSES, hidden_size = 256, num_layers=2, embedding_dim=EMBEDDING_SIZE)\n",
    "lstm_model.to(device)\n",
    "loss_function = nn.CrossEntropyLoss()\n",
    "optimizer = optim.Adam(lstm_model.parameters(), lr=0.001)\n",
    "num_epochs = 30\n",
    "dataset = MyDataset(X_train, Y_train)\n",
    "\n",
    "# Define the batch size you want to use for training\n",
    "batch_size = 32\n",
    "\n",
    "# Use DataLoader to create batches\n",
    "dataloader = DataLoader(dataset, batch_size=batch_size, shuffle=True)\n",
    "\n",
    "\n",
    "# Open the file for writing loss\n",
    "model_name = 'lstm3'\n",
    "if not os.path.exists(os.path.join(OUTPUT_FOLDER, model_name, 'plots')):\n",
    "    os.makedirs(os.path.join(OUTPUT_FOLDER, model_name, 'plots'))\n",
    "if not os.path.exists(os.path.join(OUTPUT_FOLDER, model_name, 'ckpts')):\n",
    "    os.makedirs(os.path.join(OUTPUT_FOLDER, model_name, 'ckpts'))\n",
    "\n",
    "loss_file_name = os.path.join(OUTPUT_FOLDER, model_name, 'plots/',f'{model_name}_class_big_loss_with_padding.csv') \n",
    "if os.path.exists(loss_file_name):\n",
    "    with open(loss_file_name,'w') as f:\n",
    "        f.write('iter, loss')\n",
    "        f.write('\\n')\n",
    "    lstm_model.train()\n",
    "    lstm_model.cuda()\n",
    "    for epoch in tqdm(range(num_epochs)):\n",
    "        print(\"Epoch\" + str(epoch + 1))\n",
    "        \n",
    "        prev_time = time.time()\n",
    "        start_time = time.time()\n",
    "        for i, batch in enumerate(dataloader):\n",
    "            \n",
    "            cur_time = time.time()\n",
    "            print(i, cur_time-prev_time, end ='\\r')\n",
    "            x_batch, y_batch = batch\n",
    "            x_batch.to(torch.device('cuda'))\n",
    "            y_batch.to(torch.device('cuda'))\n",
    "            # Clearing the accumulated gradients\n",
    "            lstm_model.zero_grad()\n",
    "\n",
    "            # Make the bag of words vector for stemmed tokens \n",
    "        \n",
    "            # Forward pass to get output\n",
    "            probs = lstm_model(x_batch)\n",
    "            # Calculate Loss: softmax --> cross entropy loss\n",
    "            loss = loss_function(probs, y_batch.float().cuda())\n",
    "            # Getting gradients w.r.t. parameters\n",
    "            loss.backward()\n",
    "\n",
    "            # Updating parameters\n",
    "            optimizer.step()\n",
    "            prev_time =cur_time\n",
    "        print(start_time - time.time())\n",
    "\n",
    "        # if index == 0:\n",
    "        #     continue\n",
    "        print(\"Score: \" + str((epoch+1)) + \",\" + str(loss / len(X_train)))\n",
    "        with open(loss_file_name, 'a') as f:\n",
    "            f.write(str((epoch+1)) + \",\" + str(loss / len(X_train)))\n",
    "            f.write('\\n')\n",
    "        \n",
    "        if epoch % 1 == 0:\n",
    "            torch.save({\n",
    "                'epoch': epoch,\n",
    "                'model_state_dict': cnn_model.state_dict(),\n",
    "                'optimizer_state_dict': optimizer.state_dict(),\n",
    "                'loss': loss.item(),\n",
    "                }, os.path.join(OUTPUT_FOLDER, model_name, 'ckpts', f'epoch_{epoch}.pt'))\n",
    "\n",
    "    torch.save(lstm_model, os.path.join(OUTPUT_FOLDER, model_name, f'{model_name}_big_model_500_with_padding.pth'))\n",
    "    "
   ]
  },
  {
   "cell_type": "code",
   "execution_count": 73,
   "metadata": {},
   "outputs": [
    {
     "name": "stdout",
     "output_type": "stream",
     "text": [
      "Index(['iter', ' loss'], dtype='object')\n"
     ]
    }
   ],
   "source": [
    "from sklearn.metrics import classification_report\n",
    "from tqdm import tqdm\n",
    "bow_lstm_predictions = []\n",
    "original_lables_lstm_bow = []\n",
    "lstm_model.eval()\n",
    "model_name = 'lstm2'\n",
    "loss_df = pd.read_csv(os.path.join(OUTPUT_FOLDER, model_name, 'plots', f'{model_name}_class_big_loss_with_padding.csv'))\n",
    "print(loss_df.columns)\n",
    "# loss_df.plot('loss')\n",
    "dataloader = DataLoader(MyDataset(X_test, Y_test))\n",
    "with torch.no_grad():\n",
    "\n",
    "    for i, data in enumerate(dataloader):\n",
    "        x, y = data\n",
    "        probs = lstm_model(x)\n",
    "        # _, predicted = torch.max(probs.data, 1)\n",
    "        bow_lstm_predictions.append(probs.cpu().numpy()[0])\n",
    "        original_lables_lstm_bow.append(y.cpu().numpy()[0])\n"
   ]
  },
  {
   "cell_type": "code",
   "execution_count": 76,
   "metadata": {},
   "outputs": [
    {
     "name": "stdout",
     "output_type": "stream",
     "text": [
      "              precision    recall  f1-score   support\n",
      "\n",
      "           0       0.33      1.00      0.50      2992\n",
      "           1       0.00      0.00      0.00      3044\n",
      "           2       0.00      0.00      0.00      2964\n",
      "\n",
      "    accuracy                           0.33      9000\n",
      "   macro avg       0.11      0.33      0.17      9000\n",
      "weighted avg       0.11      0.33      0.17      9000\n",
      "\n"
     ]
    },
    {
     "name": "stderr",
     "output_type": "stream",
     "text": [
      "/home/parker-alien/miniconda3/envs/torch/lib/python3.10/site-packages/sklearn/metrics/_classification.py:1344: UndefinedMetricWarning: Precision and F-score are ill-defined and being set to 0.0 in labels with no predicted samples. Use `zero_division` parameter to control this behavior.\n",
      "  _warn_prf(average, modifier, msg_start, len(result))\n",
      "/home/parker-alien/miniconda3/envs/torch/lib/python3.10/site-packages/sklearn/metrics/_classification.py:1344: UndefinedMetricWarning: Precision and F-score are ill-defined and being set to 0.0 in labels with no predicted samples. Use `zero_division` parameter to control this behavior.\n",
      "  _warn_prf(average, modifier, msg_start, len(result))\n",
      "/home/parker-alien/miniconda3/envs/torch/lib/python3.10/site-packages/sklearn/metrics/_classification.py:1344: UndefinedMetricWarning: Precision and F-score are ill-defined and being set to 0.0 in labels with no predicted samples. Use `zero_division` parameter to control this behavior.\n",
      "  _warn_prf(average, modifier, msg_start, len(result))\n"
     ]
    }
   ],
   "source": [
    "from sklearn.metrics import classification_report\n",
    "print(classification_report(original_lables_lstm_bow,list(map(round, bow_lstm_predictions))))"
   ]
  },
  {
   "cell_type": "code",
   "execution_count": 99,
   "metadata": {},
   "outputs": [
    {
     "name": "stdout",
     "output_type": "stream",
     "text": [
      "Index(['iter', ' loss'], dtype='object')\n"
     ]
    }
   ],
   "source": [
    "from sklearn.metrics import classification_report\n",
    "from tqdm import tqdm\n",
    "bow_lstm_predictions = []\n",
    "original_lables_lstm_bow = []\n",
    "lstm_model.eval()\n",
    "model_name = 'lstm3'\n",
    "loss_df = pd.read_csv(os.path.join(OUTPUT_FOLDER, model_name, 'plots', f'{model_name}_class_big_loss_with_padding.csv'))\n",
    "print(loss_df.columns)\n",
    "# loss_df.plot('loss')\n",
    "dataloader = DataLoader(MyDataset(X_test, Y_test))\n",
    "with torch.no_grad():\n",
    "\n",
    "    for i, data in enumerate(dataloader):\n",
    "        x, y = data\n",
    "        probs = lstm_model(x)\n",
    "        # _, predicted = torch.max(probs.data, 1)\n",
    "        bow_lstm_predictions.append(probs.cpu().numpy()[0])\n",
    "        original_lables_lstm_bow.append(y.cpu().numpy()[0])"
   ]
  },
  {
   "cell_type": "code",
   "execution_count": null,
   "metadata": {},
   "outputs": [],
   "source": [
    "from sklearn.metrics import classification_report\n",
    "print(classification_report(original_lables_lstm_bow,list(map(round, bow_lstm_predictions))))"
   ]
  },
  {
   "cell_type": "code",
   "execution_count": 56,
   "metadata": {},
   "outputs": [
    {
     "name": "stdout",
     "output_type": "stream",
     "text": [
      "13445163\n",
      "14694838\n"
     ]
    },
    {
     "data": {
      "text/plain": [
       "[['char_embeddings.weight', torch.Size([26780, 500]), 13390000],\n",
       " ['lstm.weight_ih_l0', torch.Size([1024, 500]), 512000],\n",
       " ['lstm.weight_hh_l0', torch.Size([1024, 256]), 262144],\n",
       " ['lstm.bias_ih_l0', torch.Size([1024]), 1024],\n",
       " ['lstm.bias_hh_l0', torch.Size([1024]), 1024],\n",
       " ['lstm.weight_ih_l1', torch.Size([1024, 256]), 262144],\n",
       " ['lstm.weight_hh_l1', torch.Size([1024, 256]), 262144],\n",
       " ['lstm.bias_ih_l1', torch.Size([1024]), 1024],\n",
       " ['lstm.bias_hh_l1', torch.Size([1024]), 1024],\n",
       " ['output_layer.weight', torch.Size([3, 256]), 768],\n",
       " ['output_layer.bias', torch.Size([3]), 3],\n",
       " ['fc.weight', torch.Size([3, 512]), 1536],\n",
       " ['fc.bias', torch.Size([3]), 3]]"
      ]
     },
     "execution_count": 56,
     "metadata": {},
     "output_type": "execute_result"
    }
   ],
   "source": [
    "import torch\n",
    "import os\n",
    "VOCAB_SIZE = len(w2vmodel.wv.index_to_key)\n",
    "NUM_CLASSES = 3\n",
    "max_sen_len = top_data_df_small.stemmed_tokens.map(len).max()\n",
    "cnn_model = CnnTextClassifier(vocab_size=VOCAB_SIZE, num_classes=NUM_CLASSES)\n",
    "lstm_model = EmbeddingLSTM(output_size=NUM_CLASSES, hidden_size = 256, num_layers=2, embedding_dim=EMBEDDING_SIZE)\n",
    "cnn_model =torch.load(os.path.join(OUTPUT_FOLDER, 'cnn_big_model_500_with_padding.pth'))\n",
    "# summary(cnn_model, (1, max_sen_len))\n",
    "def get_n_params(model):\n",
    "    pp=0\n",
    "    for p in list(model.parameters()):\n",
    "        nn=1\n",
    "        for s in list(p.size()):\n",
    "            nn = nn*s\n",
    "        pp += nn\n",
    "    return pp\n",
    "print(get_n_params(cnn_model))\n",
    "print(get_n_params(lstm_model))\n",
    "[[p[0], p[1].size(), len(p[1].flatten())] for p in list(lstm_model.named_parameters())]\n"
   ]
  },
  {
   "cell_type": "code",
   "execution_count": 68,
   "metadata": {},
   "outputs": [
    {
     "data": {
      "text/plain": [
       "[['embedding.weight', torch.Size([26780, 500]), 13390000],\n",
       " ['convs.0.weight', torch.Size([10, 1, 1, 500]), 5000],\n",
       " ['convs.0.bias', torch.Size([10]), 10],\n",
       " ['convs.1.weight', torch.Size([10, 1, 2, 500]), 10000],\n",
       " ['convs.1.bias', torch.Size([10]), 10],\n",
       " ['convs.2.weight', torch.Size([10, 1, 3, 500]), 15000],\n",
       " ['convs.2.bias', torch.Size([10]), 10],\n",
       " ['convs.3.weight', torch.Size([10, 1, 5, 500]), 25000],\n",
       " ['convs.3.bias', torch.Size([10]), 10],\n",
       " ['fc.weight', torch.Size([3, 40]), 120],\n",
       " ['fc.bias', torch.Size([3]), 3]]"
      ]
     },
     "execution_count": 68,
     "metadata": {},
     "output_type": "execute_result"
    }
   ],
   "source": [
    "[[p[0], p[1].size(), len(p[1].flatten())] for p in list(cnn_model.named_parameters())]"
   ]
  },
  {
   "cell_type": "code",
   "execution_count": null,
   "metadata": {},
   "outputs": [],
   "source": [
    "lstm_model = EmbeddingLSTM(input_size=VOCAB_SIZE, output_size=NUM_CLASSES, hidden_size = 256, num_layers=2, embedding_dim=EMBEDDING_SIZE)\n",
    "[[p[0], p[1].size(), len(p[1].flatten())] for p in list(lstm_model.named_parameters())]\n"
   ]
  }
 ],
 "metadata": {
  "kernelspec": {
   "display_name": "cnnhw",
   "language": "python",
   "name": "python3"
  },
  "language_info": {
   "codemirror_mode": {
    "name": "ipython",
    "version": 3
   },
   "file_extension": ".py",
   "mimetype": "text/x-python",
   "name": "python",
   "nbconvert_exporter": "python",
   "pygments_lexer": "ipython3",
   "version": "3.10.8"
  },
  "orig_nbformat": 4
 },
 "nbformat": 4,
 "nbformat_minor": 2
}
